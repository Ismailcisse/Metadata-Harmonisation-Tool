{
 "cells": [
  {
   "cell_type": "markdown",
   "id": "19aa2937-0a44-41af-8d88-8bd5912df402",
   "metadata": {},
   "source": [
    "### Standardize Data Study Format to CSV\n",
    "\n",
    "The goal of this notebook is to standardize the data in this study's raw directory to csv. No attempt will be made to harmonize of modify the data beyond reformating."
   ]
  },
  {
   "cell_type": "code",
   "execution_count": 1,
   "id": "30e846a8-a0be-4eda-9eaa-2d52b604be77",
   "metadata": {
    "tags": []
   },
   "outputs": [],
   "source": [
    "import pandas as pd\n",
    "import fsspec\n",
    "from pathlib import Path\n",
    "\n",
    "import openpyxl"
   ]
  },
  {
   "cell_type": "code",
   "execution_count": 2,
   "id": "64efc824-55a8-4377-80af-58aa04f08679",
   "metadata": {
    "tags": []
   },
   "outputs": [],
   "source": [
    "fs = fsspec.filesystem(\"\")"
   ]
  },
  {
   "cell_type": "code",
   "execution_count": 3,
   "id": "e34b85b0-a8f1-4911-a142-ec9de1a606a1",
   "metadata": {
    "tags": []
   },
   "outputs": [],
   "source": [
    "fs.mkdirs('../csv/', exist_ok = True)"
   ]
  },
  {
   "cell_type": "code",
   "execution_count": 4,
   "id": "99d0bd3d-cc8b-4484-99ad-dab2f1fc1460",
   "metadata": {
    "tags": []
   },
   "outputs": [
    {
     "data": {
      "text/plain": [
       "['CINECA_synthetic_cohort_Europe_CH_SIB_2021_03_10.xlsx']"
      ]
     },
     "execution_count": 4,
     "metadata": {},
     "output_type": "execute_result"
    }
   ],
   "source": [
    "avail_data = [f.split('/')[-1] for f in fs.ls('../raw/') if f.split('/')[-1][0] != '.']\n",
    "avail_data"
   ]
  },
  {
   "cell_type": "markdown",
   "id": "ac6094b5-e8ad-45f0-9868-f895374754ae",
   "metadata": {},
   "source": [
    "Just a single excel file in this study:"
   ]
  },
  {
   "cell_type": "code",
   "execution_count": 5,
   "id": "d9bddcfd-8fa0-4f88-9bae-6be177fccd33",
   "metadata": {
    "tags": []
   },
   "outputs": [],
   "source": [
    "workbook = openpyxl.load_workbook('../raw/CINECA_synthetic_cohort_Europe_CH_SIB_2021_03_10.xlsx')"
   ]
  },
  {
   "cell_type": "markdown",
   "id": "603715b9",
   "metadata": {},
   "source": [
    "And just a single sheet in the workbook. "
   ]
  },
  {
   "cell_type": "code",
   "execution_count": 6,
   "id": "1fda84d7-896e-4bb6-969c-f8d60aed5693",
   "metadata": {
    "tags": []
   },
   "outputs": [
    {
     "data": {
      "text/plain": [
       "['CINECA_synthetic_cohort_Europe_']"
      ]
     },
     "execution_count": 6,
     "metadata": {},
     "output_type": "execute_result"
    }
   ],
   "source": [
    "workbook.sheetnames"
   ]
  },
  {
   "cell_type": "markdown",
   "id": "0b784692",
   "metadata": {},
   "source": [
    "Open the sheet:"
   ]
  },
  {
   "cell_type": "code",
   "execution_count": 7,
   "id": "f66fcb71",
   "metadata": {
    "tags": []
   },
   "outputs": [],
   "source": [
    "df = pd.read_excel('../raw/CINECA_synthetic_cohort_Europe_CH_SIB_2021_03_10.xlsx', 'CINECA_synthetic_cohort_Europe_')"
   ]
  },
  {
   "cell_type": "code",
   "execution_count": 8,
   "id": "a1dfa9b6-1466-4e05-a606-7c477414a6f5",
   "metadata": {},
   "outputs": [
    {
     "data": {
      "text/html": [
       "<div>\n",
       "<style scoped>\n",
       "    .dataframe tbody tr th:only-of-type {\n",
       "        vertical-align: middle;\n",
       "    }\n",
       "\n",
       "    .dataframe tbody tr th {\n",
       "        vertical-align: top;\n",
       "    }\n",
       "\n",
       "    .dataframe thead th {\n",
       "        text-align: right;\n",
       "    }\n",
       "</style>\n",
       "<table border=\"1\" class=\"dataframe\">\n",
       "  <thead>\n",
       "    <tr style=\"text-align: right;\">\n",
       "      <th></th>\n",
       "      <th>pt</th>\n",
       "      <th>phyact</th>\n",
       "      <th>alcfrq</th>\n",
       "      <th>sbsmk</th>\n",
       "      <th>ethori_self</th>\n",
       "      <th>jobtyp</th>\n",
       "      <th>lvpl</th>\n",
       "      <th>SBP</th>\n",
       "      <th>DBP</th>\n",
       "      <th>mrtsts2</th>\n",
       "      <th>gender</th>\n",
       "      <th>age</th>\n",
       "      <th>wt</th>\n",
       "      <th>ht</th>\n",
       "      <th>cafuse</th>\n",
       "      <th>HRTRTE</th>\n",
       "      <th>dginvtx2</th>\n",
       "      <th>dginvtx3</th>\n",
       "      <th>cmatccd1_2</th>\n",
       "      <th>cmatccd1_3</th>\n",
       "    </tr>\n",
       "  </thead>\n",
       "  <tbody>\n",
       "    <tr>\n",
       "      <th>0</th>\n",
       "      <td>FAKE0</td>\n",
       "      <td>&gt;3WK</td>\n",
       "      <td>N</td>\n",
       "      <td>N</td>\n",
       "      <td>O</td>\n",
       "      <td>SE</td>\n",
       "      <td>SW</td>\n",
       "      <td>132.5</td>\n",
       "      <td>68.0</td>\n",
       "      <td>0</td>\n",
       "      <td>0</td>\n",
       "      <td>73</td>\n",
       "      <td>71.3</td>\n",
       "      <td>146.0</td>\n",
       "      <td>NONE</td>\n",
       "      <td>80.5</td>\n",
       "      <td>CEREBRAL PROBLEMS</td>\n",
       "      <td>HEROIN ADDICT</td>\n",
       "      <td>S01B</td>\n",
       "      <td>S01CA</td>\n",
       "    </tr>\n",
       "    <tr>\n",
       "      <th>1</th>\n",
       "      <td>FAKE1</td>\n",
       "      <td>2WK</td>\n",
       "      <td>SW</td>\n",
       "      <td>S</td>\n",
       "      <td>B</td>\n",
       "      <td>IW</td>\n",
       "      <td>PT</td>\n",
       "      <td>188.0</td>\n",
       "      <td>59.0</td>\n",
       "      <td>1</td>\n",
       "      <td>0</td>\n",
       "      <td>41</td>\n",
       "      <td>69.6</td>\n",
       "      <td>149.0</td>\n",
       "      <td>1B3</td>\n",
       "      <td>83.0</td>\n",
       "      <td>LUMBAR PAINS</td>\n",
       "      <td>ESOPHAGEAL AND STOMACH DISORDER</td>\n",
       "      <td>D05A</td>\n",
       "      <td>C08DB</td>\n",
       "    </tr>\n",
       "    <tr>\n",
       "      <th>2</th>\n",
       "      <td>FAKE2</td>\n",
       "      <td>K</td>\n",
       "      <td>R</td>\n",
       "      <td>N</td>\n",
       "      <td>O</td>\n",
       "      <td>PR</td>\n",
       "      <td>SW</td>\n",
       "      <td>178.0</td>\n",
       "      <td>114.0</td>\n",
       "      <td>1</td>\n",
       "      <td>0</td>\n",
       "      <td>52</td>\n",
       "      <td>105.8</td>\n",
       "      <td>143.0</td>\n",
       "      <td>1B3</td>\n",
       "      <td>74.0</td>\n",
       "      <td>ALCOHOL PROBLEMS</td>\n",
       "      <td>ANXIETY, DEPRESSION</td>\n",
       "      <td>A03FA</td>\n",
       "      <td>J05AE</td>\n",
       "    </tr>\n",
       "    <tr>\n",
       "      <th>3</th>\n",
       "      <td>FAKE3</td>\n",
       "      <td>K</td>\n",
       "      <td>SW</td>\n",
       "      <td>F</td>\n",
       "      <td>O</td>\n",
       "      <td>ME</td>\n",
       "      <td>SZ</td>\n",
       "      <td>204.5</td>\n",
       "      <td>114.0</td>\n",
       "      <td>1</td>\n",
       "      <td>1</td>\n",
       "      <td>50</td>\n",
       "      <td>48.7</td>\n",
       "      <td>181.5</td>\n",
       "      <td>&gt;6</td>\n",
       "      <td>66.5</td>\n",
       "      <td>EXPECTORANT</td>\n",
       "      <td>ACID RELFUX DISEASE</td>\n",
       "      <td>B05BA</td>\n",
       "      <td>C05CX</td>\n",
       "    </tr>\n",
       "    <tr>\n",
       "      <th>4</th>\n",
       "      <td>FAKE4</td>\n",
       "      <td>K</td>\n",
       "      <td>3D</td>\n",
       "      <td>F</td>\n",
       "      <td>B</td>\n",
       "      <td>PR</td>\n",
       "      <td>SW</td>\n",
       "      <td>110.0</td>\n",
       "      <td>87.5</td>\n",
       "      <td>0</td>\n",
       "      <td>1</td>\n",
       "      <td>43</td>\n",
       "      <td>82.4</td>\n",
       "      <td>182.5</td>\n",
       "      <td>&gt;6</td>\n",
       "      <td>77.0</td>\n",
       "      <td>ANTIBIOTIC (GERM INFECTION)</td>\n",
       "      <td>PROSTATE PROBLEM</td>\n",
       "      <td>S01AX</td>\n",
       "      <td>A12CC</td>\n",
       "    </tr>\n",
       "    <tr>\n",
       "      <th>...</th>\n",
       "      <td>...</td>\n",
       "      <td>...</td>\n",
       "      <td>...</td>\n",
       "      <td>...</td>\n",
       "      <td>...</td>\n",
       "      <td>...</td>\n",
       "      <td>...</td>\n",
       "      <td>...</td>\n",
       "      <td>...</td>\n",
       "      <td>...</td>\n",
       "      <td>...</td>\n",
       "      <td>...</td>\n",
       "      <td>...</td>\n",
       "      <td>...</td>\n",
       "      <td>...</td>\n",
       "      <td>...</td>\n",
       "      <td>...</td>\n",
       "      <td>...</td>\n",
       "      <td>...</td>\n",
       "      <td>...</td>\n",
       "    </tr>\n",
       "    <tr>\n",
       "      <th>6728</th>\n",
       "      <td>FAKE6728</td>\n",
       "      <td>1WK</td>\n",
       "      <td>2WK</td>\n",
       "      <td>N</td>\n",
       "      <td>B</td>\n",
       "      <td>EU</td>\n",
       "      <td>PT</td>\n",
       "      <td>151.0</td>\n",
       "      <td>102.0</td>\n",
       "      <td>1</td>\n",
       "      <td>1</td>\n",
       "      <td>51</td>\n",
       "      <td>89.7</td>\n",
       "      <td>186.0</td>\n",
       "      <td>4B6</td>\n",
       "      <td>90.5</td>\n",
       "      <td>UNKNOWN STOMACH PROBLEM</td>\n",
       "      <td>TONIC</td>\n",
       "      <td>N05AN</td>\n",
       "      <td>C08DB</td>\n",
       "    </tr>\n",
       "    <tr>\n",
       "      <th>6729</th>\n",
       "      <td>FAKE6729</td>\n",
       "      <td>N</td>\n",
       "      <td>1D</td>\n",
       "      <td>F</td>\n",
       "      <td>K</td>\n",
       "      <td>QW</td>\n",
       "      <td>PT</td>\n",
       "      <td>155.0</td>\n",
       "      <td>72.0</td>\n",
       "      <td>0</td>\n",
       "      <td>0</td>\n",
       "      <td>40</td>\n",
       "      <td>63.4</td>\n",
       "      <td>182.0</td>\n",
       "      <td>&gt;6</td>\n",
       "      <td>80.0</td>\n",
       "      <td>ALLERGIC TO DUST MITE (STOPPED THE MEDICATION ...</td>\n",
       "      <td>RENAL LITHIASIS</td>\n",
       "      <td>A10BG</td>\n",
       "      <td>S01CA</td>\n",
       "    </tr>\n",
       "    <tr>\n",
       "      <th>6730</th>\n",
       "      <td>FAKE6730</td>\n",
       "      <td>2WK</td>\n",
       "      <td>N</td>\n",
       "      <td>S</td>\n",
       "      <td>W</td>\n",
       "      <td>FM</td>\n",
       "      <td>SZ</td>\n",
       "      <td>112.5</td>\n",
       "      <td>55.0</td>\n",
       "      <td>1</td>\n",
       "      <td>1</td>\n",
       "      <td>61</td>\n",
       "      <td>61.3</td>\n",
       "      <td>187.0</td>\n",
       "      <td>4B6</td>\n",
       "      <td>91.0</td>\n",
       "      <td>HANDS PAINS</td>\n",
       "      <td>VESTIBULITIS</td>\n",
       "      <td>N05AX</td>\n",
       "      <td>N02CX</td>\n",
       "    </tr>\n",
       "    <tr>\n",
       "      <th>6731</th>\n",
       "      <td>FAKE6731</td>\n",
       "      <td>&gt;3WK</td>\n",
       "      <td>R</td>\n",
       "      <td>S</td>\n",
       "      <td>A</td>\n",
       "      <td>FM</td>\n",
       "      <td>SW</td>\n",
       "      <td>102.0</td>\n",
       "      <td>53.5</td>\n",
       "      <td>1</td>\n",
       "      <td>1</td>\n",
       "      <td>59</td>\n",
       "      <td>82.5</td>\n",
       "      <td>174.0</td>\n",
       "      <td>4B6</td>\n",
       "      <td>79.5</td>\n",
       "      <td>PAIN RELEVER</td>\n",
       "      <td>PREVENTION - WELLNESS</td>\n",
       "      <td>S01XA</td>\n",
       "      <td>N07CA</td>\n",
       "    </tr>\n",
       "    <tr>\n",
       "      <th>6732</th>\n",
       "      <td>FAKE6732</td>\n",
       "      <td>1WK</td>\n",
       "      <td>1D</td>\n",
       "      <td>F</td>\n",
       "      <td>X</td>\n",
       "      <td>MG</td>\n",
       "      <td>SZ</td>\n",
       "      <td>121.5</td>\n",
       "      <td>105.0</td>\n",
       "      <td>1</td>\n",
       "      <td>1</td>\n",
       "      <td>42</td>\n",
       "      <td>65.2</td>\n",
       "      <td>144.0</td>\n",
       "      <td>1B3</td>\n",
       "      <td>76.0</td>\n",
       "      <td>CALF CRAMP</td>\n",
       "      <td>ANALGESICIS (OPERATION)</td>\n",
       "      <td>N07BA</td>\n",
       "      <td>G02AB</td>\n",
       "    </tr>\n",
       "  </tbody>\n",
       "</table>\n",
       "<p>6733 rows × 20 columns</p>\n",
       "</div>"
      ],
      "text/plain": [
       "            pt phyact alcfrq sbsmk ethori_self jobtyp lvpl    SBP    DBP  \\\n",
       "0        FAKE0   >3WK      N     N           O     SE   SW  132.5   68.0   \n",
       "1        FAKE1    2WK     SW     S           B     IW   PT  188.0   59.0   \n",
       "2        FAKE2      K      R     N           O     PR   SW  178.0  114.0   \n",
       "3        FAKE3      K     SW     F           O     ME   SZ  204.5  114.0   \n",
       "4        FAKE4      K     3D     F           B     PR   SW  110.0   87.5   \n",
       "...        ...    ...    ...   ...         ...    ...  ...    ...    ...   \n",
       "6728  FAKE6728    1WK    2WK     N           B     EU   PT  151.0  102.0   \n",
       "6729  FAKE6729      N     1D     F           K     QW   PT  155.0   72.0   \n",
       "6730  FAKE6730    2WK      N     S           W     FM   SZ  112.5   55.0   \n",
       "6731  FAKE6731   >3WK      R     S           A     FM   SW  102.0   53.5   \n",
       "6732  FAKE6732    1WK     1D     F           X     MG   SZ  121.5  105.0   \n",
       "\n",
       "      mrtsts2  gender  age     wt     ht cafuse  HRTRTE  \\\n",
       "0           0       0   73   71.3  146.0   NONE    80.5   \n",
       "1           1       0   41   69.6  149.0    1B3    83.0   \n",
       "2           1       0   52  105.8  143.0    1B3    74.0   \n",
       "3           1       1   50   48.7  181.5     >6    66.5   \n",
       "4           0       1   43   82.4  182.5     >6    77.0   \n",
       "...       ...     ...  ...    ...    ...    ...     ...   \n",
       "6728        1       1   51   89.7  186.0    4B6    90.5   \n",
       "6729        0       0   40   63.4  182.0     >6    80.0   \n",
       "6730        1       1   61   61.3  187.0    4B6    91.0   \n",
       "6731        1       1   59   82.5  174.0    4B6    79.5   \n",
       "6732        1       1   42   65.2  144.0    1B3    76.0   \n",
       "\n",
       "                                               dginvtx2  \\\n",
       "0                                     CEREBRAL PROBLEMS   \n",
       "1                                          LUMBAR PAINS   \n",
       "2                                      ALCOHOL PROBLEMS   \n",
       "3                                           EXPECTORANT   \n",
       "4                           ANTIBIOTIC (GERM INFECTION)   \n",
       "...                                                 ...   \n",
       "6728                            UNKNOWN STOMACH PROBLEM   \n",
       "6729  ALLERGIC TO DUST MITE (STOPPED THE MEDICATION ...   \n",
       "6730                                        HANDS PAINS   \n",
       "6731                                       PAIN RELEVER   \n",
       "6732                                         CALF CRAMP   \n",
       "\n",
       "                             dginvtx3 cmatccd1_2 cmatccd1_3  \n",
       "0                       HEROIN ADDICT       S01B      S01CA  \n",
       "1     ESOPHAGEAL AND STOMACH DISORDER       D05A      C08DB  \n",
       "2                 ANXIETY, DEPRESSION      A03FA      J05AE  \n",
       "3                 ACID RELFUX DISEASE      B05BA      C05CX  \n",
       "4                    PROSTATE PROBLEM      S01AX      A12CC  \n",
       "...                               ...        ...        ...  \n",
       "6728                            TONIC      N05AN      C08DB  \n",
       "6729                  RENAL LITHIASIS      A10BG      S01CA  \n",
       "6730                     VESTIBULITIS      N05AX      N02CX  \n",
       "6731            PREVENTION - WELLNESS      S01XA      N07CA  \n",
       "6732          ANALGESICIS (OPERATION)      N07BA      G02AB  \n",
       "\n",
       "[6733 rows x 20 columns]"
      ]
     },
     "execution_count": 8,
     "metadata": {},
     "output_type": "execute_result"
    }
   ],
   "source": [
    "df"
   ]
  },
  {
   "cell_type": "markdown",
   "id": "a347d173",
   "metadata": {},
   "source": [
    "Get study name from folder name:"
   ]
  },
  {
   "cell_type": "code",
   "execution_count": 9,
   "id": "d43a78f8-d64d-4ffc-9f6c-c91ea24c6654",
   "metadata": {
    "tags": []
   },
   "outputs": [
    {
     "data": {
      "text/plain": [
       "'Europe_CH_SIB'"
      ]
     },
     "execution_count": 9,
     "metadata": {},
     "output_type": "execute_result"
    }
   ],
   "source": [
    "study_name = fs.ls('')[0].split('/')[-3]\n",
    "study_name"
   ]
  },
  {
   "cell_type": "markdown",
   "id": "a5577acc",
   "metadata": {},
   "source": [
    "Save to csv format:"
   ]
  },
  {
   "cell_type": "code",
   "execution_count": 10,
   "id": "82935daf-6143-4b0e-a838-6fecbf96ec2a",
   "metadata": {
    "tags": []
   },
   "outputs": [],
   "source": [
    "df.to_csv(f'../csv/{study_name}.csv')"
   ]
  }
 ],
 "metadata": {
  "kernelspec": {
   "display_name": "Python 3 (ipykernel)",
   "language": "python",
   "name": "python3"
  },
  "language_info": {
   "codemirror_mode": {
    "name": "ipython",
    "version": 3
   },
   "file_extension": ".py",
   "mimetype": "text/x-python",
   "name": "python",
   "nbconvert_exporter": "python",
   "pygments_lexer": "ipython3",
   "version": "3.11.4"
  }
 },
 "nbformat": 4,
 "nbformat_minor": 5
}
