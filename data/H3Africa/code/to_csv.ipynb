{
 "cells": [
  {
   "cell_type": "markdown",
   "id": "19aa2937-0a44-41af-8d88-8bd5912df402",
   "metadata": {},
   "source": [
    "### Standardize Data Study Format to CSV\n",
    "\n",
    "The goal of this notebook is to standardize the data in this study's raw directory to csv. No attempt will be made to harmonize of modify the data beyond reformating."
   ]
  },
  {
   "cell_type": "code",
   "execution_count": 1,
   "id": "30e846a8-a0be-4eda-9eaa-2d52b604be77",
   "metadata": {
    "tags": []
   },
   "outputs": [],
   "source": [
    "import pandas as pd\n",
    "import fsspec\n",
    "from pathlib import Path\n",
    "\n",
    "import openpyxl"
   ]
  },
  {
   "cell_type": "code",
   "execution_count": 2,
   "id": "64efc824-55a8-4377-80af-58aa04f08679",
   "metadata": {
    "tags": []
   },
   "outputs": [],
   "source": [
    "fs = fsspec.filesystem(\"\")"
   ]
  },
  {
   "cell_type": "code",
   "execution_count": 3,
   "id": "e34b85b0-a8f1-4911-a142-ec9de1a606a1",
   "metadata": {
    "tags": []
   },
   "outputs": [],
   "source": [
    "fs.mkdirs('../csv/', exist_ok = True)"
   ]
  },
  {
   "cell_type": "code",
   "execution_count": 4,
   "id": "99d0bd3d-cc8b-4484-99ad-dab2f1fc1460",
   "metadata": {
    "tags": []
   },
   "outputs": [
    {
     "data": {
      "text/plain": [
       "['CINECA_synthetic_cohort_Africa_H3ABioNet_v1_2021_06_15_uncorrelated.xlsx']"
      ]
     },
     "execution_count": 4,
     "metadata": {},
     "output_type": "execute_result"
    }
   ],
   "source": [
    "avail_data = [f.split('/')[-1] for f in fs.ls('../raw/') if f.split('/')[-1][0] != '.']\n",
    "avail_data"
   ]
  },
  {
   "cell_type": "markdown",
   "id": "ac6094b5-e8ad-45f0-9868-f895374754ae",
   "metadata": {},
   "source": [
    "Just a single excel file in this study:"
   ]
  },
  {
   "cell_type": "code",
   "execution_count": 5,
   "id": "d9bddcfd-8fa0-4f88-9bae-6be177fccd33",
   "metadata": {
    "tags": []
   },
   "outputs": [],
   "source": [
    "workbook = openpyxl.load_workbook('../raw/CINECA_synthetic_cohort_Africa_H3ABioNet_v1_2021_06_15_uncorrelated.xlsx')"
   ]
  },
  {
   "cell_type": "markdown",
   "id": "603715b9",
   "metadata": {},
   "source": [
    "And just a single sheet in the workbook. "
   ]
  },
  {
   "cell_type": "code",
   "execution_count": 6,
   "id": "1fda84d7-896e-4bb6-969c-f8d60aed5693",
   "metadata": {
    "tags": []
   },
   "outputs": [
    {
     "data": {
      "text/plain": [
       "['Sheet 1 - synthetic_data_H3Afri']"
      ]
     },
     "execution_count": 6,
     "metadata": {},
     "output_type": "execute_result"
    }
   ],
   "source": [
    "workbook.sheetnames"
   ]
  },
  {
   "cell_type": "markdown",
   "id": "0b784692",
   "metadata": {},
   "source": [
    "Open the sheet:"
   ]
  },
  {
   "cell_type": "code",
   "execution_count": 7,
   "id": "f66fcb71",
   "metadata": {
    "tags": []
   },
   "outputs": [],
   "source": [
    "df = pd.read_excel('../raw/CINECA_synthetic_cohort_Africa_H3ABioNet_v1_2021_06_15_uncorrelated.xlsx', 'Sheet 1 - synthetic_data_H3Afri')"
   ]
  },
  {
   "cell_type": "markdown",
   "id": "c5cdedf5",
   "metadata": {},
   "source": [
    "Column names in first row:"
   ]
  },
  {
   "cell_type": "code",
   "execution_count": 8,
   "id": "2420e4f1",
   "metadata": {
    "tags": []
   },
   "outputs": [],
   "source": [
    "df.columns = list(df.iloc[0])\n",
    "df = df.iloc[1:]"
   ]
  },
  {
   "cell_type": "markdown",
   "id": "a347d173",
   "metadata": {},
   "source": [
    "Get study name from folder name:"
   ]
  },
  {
   "cell_type": "code",
   "execution_count": 9,
   "id": "d43a78f8-d64d-4ffc-9f6c-c91ea24c6654",
   "metadata": {
    "tags": []
   },
   "outputs": [
    {
     "data": {
      "text/plain": [
       "'H3Africa'"
      ]
     },
     "execution_count": 9,
     "metadata": {},
     "output_type": "execute_result"
    }
   ],
   "source": [
    "study_name = fs.ls('')[0].split('/')[-3]\n",
    "study_name"
   ]
  },
  {
   "cell_type": "markdown",
   "id": "a5577acc",
   "metadata": {},
   "source": [
    "Save to csv format:"
   ]
  },
  {
   "cell_type": "code",
   "execution_count": 10,
   "id": "82935daf-6143-4b0e-a838-6fecbf96ec2a",
   "metadata": {
    "tags": []
   },
   "outputs": [],
   "source": [
    "df.to_csv(f'../csv/{study_name}.csv')"
   ]
  }
 ],
 "metadata": {
  "kernelspec": {
   "display_name": "Python [conda env:pangeo] *",
   "language": "python",
   "name": "conda-env-pangeo-py"
  },
  "language_info": {
   "codemirror_mode": {
    "name": "ipython",
    "version": 3
   },
   "file_extension": ".py",
   "mimetype": "text/x-python",
   "name": "python",
   "nbconvert_exporter": "python",
   "pygments_lexer": "ipython3",
   "version": "3.10.10"
  }
 },
 "nbformat": 4,
 "nbformat_minor": 5
}
