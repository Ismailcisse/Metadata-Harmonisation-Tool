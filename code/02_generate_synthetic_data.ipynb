{
 "cells": [
  {
   "cell_type": "markdown",
   "id": "23b60134-4c73-4a71-aa67-defd8eb3859c",
   "metadata": {},
   "source": [
    "# Create Anonymized Data"
   ]
  },
  {
   "cell_type": "markdown",
   "id": "1f072f92-54c2-463e-a2c5-1af5a6ed9699",
   "metadata": {},
   "source": [
    "The Goal of this notebook is to create synthetic data from harmonization purposes. Initially I will follow the easiest path forward by simply selecting 5 random values from each column. This will preserve the integrity of the data it render it useless for any analysis purposes. I will manually remove any location information. At a later step. "
   ]
  },
  {
   "cell_type": "code",
   "execution_count": 1,
   "id": "9abbfea7-4da0-4f32-9d1e-199f02aebff4",
   "metadata": {},
   "outputs": [],
   "source": [
    "import pandas as pd\n",
    "import fsspec\n",
    "from pathlib import Path\n",
    "\n",
    "import numpy as np"
   ]
  },
  {
   "cell_type": "code",
   "execution_count": 2,
   "id": "62d7a2d4-ea16-42fe-8d80-20c6a4274530",
   "metadata": {},
   "outputs": [],
   "source": [
    "fs = fsspec.filesystem(\"\")"
   ]
  },
  {
   "cell_type": "code",
   "execution_count": 3,
   "id": "3d52bcaa-5206-4341-a839-73f41c11a5dd",
   "metadata": {},
   "outputs": [
    {
     "data": {
      "text/plain": [
       "['Europe_CH_SIB', 'H3Africa']"
      ]
     },
     "execution_count": 3,
     "metadata": {},
     "output_type": "execute_result"
    }
   ],
   "source": [
    "avail_studies = [f.split('/')[-1] for f in fs.ls('../data/') if f.split('/')[-1][0] != '.']\n",
    "avail_studies"
   ]
  },
  {
   "cell_type": "markdown",
   "id": "8e0a1543-d56b-461b-a8e8-66d468f006ba",
   "metadata": {},
   "source": [
    "Version 1 just picked 10 rows at random but this risks getting no values if there are lots on None's. I will instead pick 10 random values from the set of the values. If the set is less than 10 I will pad it with None's. "
   ]
  },
  {
   "cell_type": "code",
   "execution_count": 4,
   "id": "cf4e0cb9-0e4b-4a83-a825-898aae2b9948",
   "metadata": {},
   "outputs": [],
   "source": [
    "completed = []\n",
    "for study in avail_studies:\n",
    "    if fs.isdir(f'../data/{study}/csv/'):\n",
    "        csv_files = [f.split('/')[-1] for f in fs.ls(f'../data/{study}/csv/') if f.split('/')[-1][0] != '.']\n",
    "        for file in csv_files:\n",
    "            df = pd.read_csv(f'../data/{study}/csv/{file}', low_memory=False).iloc[:,1:]\n",
    "            data = {}\n",
    "            for col in df.columns:\n",
    "                set_of_values = list(set(df[col].dropna()))\n",
    "                n = len(set_of_values)\n",
    "                if n >= 10:\n",
    "                    data[col] = [set_of_values[i] for i in np.random.randint(low = 0, high = n, size = 10)]\n",
    "                else:\n",
    "                    data[col] = (set_of_values + 10 * [None])[:10]\n",
    "            df_synth = pd.DataFrame.from_dict(data)\n",
    "            fs.mkdirs(f'../data/{study}/synthetic', exist_ok = True)\n",
    "            df_synth.to_csv(f'../data/{study}/synthetic/{file}')\n",
    "            del df\n",
    "            del df_synth"
   ]
  },
  {
   "cell_type": "markdown",
   "id": "be80b4da-b8d2-497e-a12d-cadc10080577",
   "metadata": {},
   "source": [
    "## an important next step is to manually go through the generated synthetic data and ensure no location info is present!"
   ]
  }
 ],
 "metadata": {
  "kernelspec": {
   "display_name": "Python 3 (ipykernel)",
   "language": "python",
   "name": "python3"
  },
  "language_info": {
   "codemirror_mode": {
    "name": "ipython",
    "version": 3
   },
   "file_extension": ".py",
   "mimetype": "text/x-python",
   "name": "python",
   "nbconvert_exporter": "python",
   "pygments_lexer": "ipython3",
   "version": "3.11.4"
  }
 },
 "nbformat": 4,
 "nbformat_minor": 5
}
