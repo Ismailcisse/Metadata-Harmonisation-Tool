{
 "cells": [
  {
   "cell_type": "markdown",
   "id": "ff9328d1-005e-49de-8f12-4cfca0f42f87",
   "metadata": {},
   "source": [
    "# Progress Monitor"
   ]
  },
  {
   "cell_type": "code",
   "execution_count": 8,
   "id": "9bfad4fa-454a-45ff-9877-74d969454d2f",
   "metadata": {},
   "outputs": [],
   "source": [
    "import pandas as pd\n",
    "import fsspec\n",
    "from pathlib import Path"
   ]
  },
  {
   "cell_type": "code",
   "execution_count": 9,
   "id": "539cddff-e18c-4525-8f2e-6a24be84f78c",
   "metadata": {},
   "outputs": [],
   "source": [
    "fs = fsspec.filesystem(\"\")"
   ]
  },
  {
   "cell_type": "code",
   "execution_count": 10,
   "id": "dcfe941f-24b7-43ad-8bbd-654e9ff4c6af",
   "metadata": {},
   "outputs": [
    {
     "data": {
      "text/plain": [
       "['Europe_CH_SIB', 'H3Africa']"
      ]
     },
     "execution_count": 10,
     "metadata": {},
     "output_type": "execute_result"
    }
   ],
   "source": [
    "avail_studies = [f.split('/')[-1] for f in fs.ls('../data/') if f.split('/')[-1][0] != '.']\n",
    "avail_studies"
   ]
  },
  {
   "cell_type": "markdown",
   "id": "3c4def95-56bb-40ff-bb96-23b10459252c",
   "metadata": {
    "tags": []
   },
   "source": [
    "## Check if a csv file has been created:"
   ]
  },
  {
   "cell_type": "code",
   "execution_count": 11,
   "id": "b4f204d4-124a-4868-a79a-ab4da49f55d0",
   "metadata": {},
   "outputs": [
    {
     "data": {
      "text/plain": [
       "[]"
      ]
     },
     "execution_count": 11,
     "metadata": {},
     "output_type": "execute_result"
    }
   ],
   "source": [
    "completed = []\n",
    "for study in avail_studies:\n",
    "    if fs.isdir(f'../data/{study}/csv/'):\n",
    "        csv_files = [f.split('/')[-1] for f in fs.ls(f'../data/{study}/csv/') if f.split('/')[-1][0] != '.']\n",
    "    else: \n",
    "        csv_files = []\n",
    "    if len(csv_files) > 0 :\n",
    "        completed.append(study)\n",
    "        \n",
    "\n",
    "to_do = [study for study in avail_studies if study not in completed]\n",
    "to_do"
   ]
  },
  {
   "cell_type": "markdown",
   "id": "5d5b944e-2455-4fa7-8dd9-ebf7c4a71719",
   "metadata": {
    "tags": []
   },
   "source": [
    "## Check if a variables metadata file has been created:"
   ]
  },
  {
   "cell_type": "code",
   "execution_count": 12,
   "id": "35413232-1294-4a35-b48c-f86089f48d84",
   "metadata": {},
   "outputs": [
    {
     "data": {
      "text/plain": [
       "[]"
      ]
     },
     "execution_count": 12,
     "metadata": {},
     "output_type": "execute_result"
    }
   ],
   "source": [
    "completed = []\n",
    "for study in avail_studies:\n",
    "    if fs.exists(f'../data/{study}/metadata/variables.csv'):\n",
    "        completed.append(study)\n",
    "        \n",
    "\n",
    "to_do = [study for study in avail_studies if study not in completed]\n",
    "to_do"
   ]
  },
  {
   "cell_type": "markdown",
   "id": "7bc726f9-c9da-4698-b16d-c9e5ed2f37bb",
   "metadata": {
    "tags": []
   },
   "source": [
    "## Check if a synthetic file has been created:"
   ]
  },
  {
   "cell_type": "code",
   "execution_count": 13,
   "id": "11595c61-7ead-400b-b4a1-7983e2891717",
   "metadata": {},
   "outputs": [
    {
     "data": {
      "text/plain": [
       "[]"
      ]
     },
     "execution_count": 13,
     "metadata": {},
     "output_type": "execute_result"
    }
   ],
   "source": [
    "completed = []\n",
    "for study in avail_studies:\n",
    "    if fs.isdir(f'../data/{study}/synthetic/'):\n",
    "        csv_files = [f.split('/')[-1] for f in fs.ls(f'../data/{study}/synthetic/') if f.split('/')[-1][0] != '.']\n",
    "    else: \n",
    "        csv_files = []\n",
    "    if len(csv_files) > 0 :\n",
    "        completed.append(study)\n",
    "        \n",
    "\n",
    "to_do = [study for study in avail_studies if study not in completed]\n",
    "to_do"
   ]
  },
  {
   "cell_type": "markdown",
   "id": "34b610f4-6def-4577-844f-5f83cc5c3735",
   "metadata": {
    "tags": []
   },
   "source": [
    "## Check if a recommendation file has been created:"
   ]
  },
  {
   "cell_type": "code",
   "execution_count": 14,
   "id": "1885f5ea-b6d7-4988-a541-9627e05966d0",
   "metadata": {},
   "outputs": [
    {
     "data": {
      "text/plain": [
       "[]"
      ]
     },
     "execution_count": 14,
     "metadata": {},
     "output_type": "execute_result"
    }
   ],
   "source": [
    "completed = []\n",
    "for study in avail_studies:\n",
    "    if fs.exists(f'../data/{study}/metadata/variables_with_recomendations.csv'):\n",
    "        completed.append(study)\n",
    "        \n",
    "\n",
    "to_do = [study for study in avail_studies if study not in completed]\n",
    "to_do"
   ]
  },
  {
   "cell_type": "code",
   "execution_count": null,
   "id": "2ecee7c0-6ea9-4e7d-b050-3dc58ee99162",
   "metadata": {},
   "outputs": [],
   "source": []
  }
 ],
 "metadata": {
  "kernelspec": {
   "display_name": "Python 3 (ipykernel)",
   "language": "python",
   "name": "python3"
  },
  "language_info": {
   "codemirror_mode": {
    "name": "ipython",
    "version": 3
   },
   "file_extension": ".py",
   "mimetype": "text/x-python",
   "name": "python",
   "nbconvert_exporter": "python",
   "pygments_lexer": "ipython3",
   "version": "3.11.4"
  }
 },
 "nbformat": 4,
 "nbformat_minor": 5
}
