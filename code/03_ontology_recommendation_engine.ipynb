{
 "cells": [
  {
   "cell_type": "markdown",
   "id": "2456e6fa-696d-418f-b24e-658ee589a054",
   "metadata": {
    "tags": []
   },
   "source": [
    "# Create Ontology Recomendations"
   ]
  },
  {
   "cell_type": "markdown",
   "id": "1231e96e-224e-4eab-b91f-e7fc1354bfbe",
   "metadata": {},
   "source": [
    "This notebook makes use of the precomputed embeddings for the RP1 coebook and the NCIT Ontologyies to generate recomended ontologies to map study variables to. See https://web.csag.uct.ac.za/hub/hub/user-redirect/lab/tree/heat_center/code/data_harmonisation/health_ontologies/03_recommendation_engine_workflow.ipynb for an annotated script"
   ]
  },
  {
   "cell_type": "code",
   "execution_count": 1,
   "id": "ad8b16ec-b11f-44dc-9653-601e50b59947",
   "metadata": {
    "tags": []
   },
   "outputs": [],
   "source": [
    "import pandas as pd\n",
    "import numpy as np\n",
    "import fsspec\n",
    "import json\n",
    "import time\n",
    "from pathlib import Path\n",
    "\n",
    "\n",
    "import openai\n",
    "from openai.embeddings_utils import get_embedding"
   ]
  },
  {
   "cell_type": "code",
   "execution_count": 2,
   "id": "129a58b0-2797-421c-981e-3278135eaff5",
   "metadata": {
    "tags": []
   },
   "outputs": [],
   "source": [
    "from scipy import spatial\n",
    "\n",
    "def calculate_cosine_similarity(embedding1, embedding2):\n",
    "    similarity = spatial.distance.cosine(embedding1, embedding2)\n",
    "    return similarity"
   ]
  },
  {
   "cell_type": "markdown",
   "id": "0f4e6a56-fc51-4634-b0ba-56f36b04d462",
   "metadata": {},
   "source": [
    "You will need to get an OpenAI key to use this code. \n",
    "Once you have a key and org name set the enviroment variables by the following code in your terminal: \n",
    "\n",
    "```bash\n",
    "export OPENAI_API_KEY=YOUR_API_KEY\n",
    "export OPENAI_ORG_NAME=YOUR_ORG_Name\n",
    "```"
   ]
  },
  {
   "cell_type": "code",
   "execution_count": 12,
   "id": "12dbd3f1-79be-4637-873d-8cbf14dc7cad",
   "metadata": {
    "tags": []
   },
   "outputs": [],
   "source": [
    "embedding_model = \"text-embedding-ada-002\"\n",
    "OpenAI_api_key = os.getenv(\"OPENAI_API_KEY\")\n",
    "OpenAI_org_name = os.getenv(\"OPENAI_ORG_NAME\")\n",
    "openai.api_key = OpenAI_api_key"
   ]
  },
  {
   "cell_type": "code",
   "execution_count": 4,
   "id": "dded34bf-bced-43e9-9232-88ecd4164efb",
   "metadata": {
    "tags": []
   },
   "outputs": [],
   "source": [
    "pd.options.mode.chained_assignment = None  # default='warn'"
   ]
  },
  {
   "cell_type": "code",
   "execution_count": 5,
   "id": "bcfabb4c-e1d8-4ccc-bd65-ae21ff4d4fb1",
   "metadata": {
    "tags": []
   },
   "outputs": [],
   "source": [
    "fs = fsspec.filesystem(\"\")"
   ]
  },
  {
   "cell_type": "markdown",
   "id": "e433ac2f-cfca-4313-a673-22c741799e5f",
   "metadata": {},
   "source": [
    "get available studies:"
   ]
  },
  {
   "cell_type": "code",
   "execution_count": 6,
   "id": "7c641991-de11-45e9-8b70-0f9a2ed3b3df",
   "metadata": {
    "tags": []
   },
   "outputs": [],
   "source": [
    "avail_studies = [f.split('/')[-1] for f in fs.ls('../data/') if f.split('/')[-1][0] != '.']"
   ]
  },
  {
   "cell_type": "markdown",
   "id": "fa212457-8c5a-4b04-a6be-1e3bdb3e48c0",
   "metadata": {},
   "source": [
    "In case we have yet to create a variables.csv file for a particular study"
   ]
  },
  {
   "cell_type": "code",
   "execution_count": 7,
   "id": "f407acb6-7d10-4bce-85c5-93c5070cada7",
   "metadata": {
    "tags": []
   },
   "outputs": [],
   "source": [
    "avail_studies = [x for x in avail_studies if fs.exists(f'../data/{x}/metadata/variables.csv')]"
   ]
  },
  {
   "cell_type": "code",
   "execution_count": 13,
   "id": "516c2948-92c7-4256-9af1-ed00aa759cc5",
   "metadata": {
    "tags": []
   },
   "outputs": [
    {
     "name": "stdout",
     "output_type": "stream",
     "text": [
      "Europe_CH_SIB\n"
     ]
    }
   ],
   "source": [
    "for study in avail_studies:\n",
    "    if not fs.exists(f'../data/{study}/metadata/variables_with_recomendations.csv'):\n",
    "        print(study)\n",
    "        df = pd.read_csv(f'../data/{study}/metadata/variables.csv')[['var','description']]\n",
    "    \n",
    "        #Get Vector Embeddings for study:\n",
    "        variables = []\n",
    "        for i in range(len(df)):\n",
    "            if type(df.iloc[i].description) == str:\n",
    "                variables.append(df.iloc[i]['description'])\n",
    "            else:\n",
    "                variables.append(df.iloc[i]['var'])       \n",
    "    \n",
    "        df['name_to_embed'] = variables\n",
    "        df[\"embeddings\"] = df.name_to_embed.apply(lambda x: get_embedding(x, engine=embedding_model))\n",
    "    \n",
    "        #Codebook\n",
    "        #Get codebook embeddings:\n",
    "        df_codebook = pd.read_csv('../codebook/codebook_with_embeddings.csv')\n",
    "        df_codebook[\"embeddings\"] =df_codebook.embeddings.apply(eval).apply(np.array)  # convert string to numpy array\n",
    "        df_codebook = df_codebook.rename(columns={\"Variable Name (EFO,SNOMED,NCIT)\": \"Name\"})\n",
    "    \n",
    "        recomendations = []\n",
    "        distances = []\n",
    "        urls = []\n",
    "        for i in range(len(df)):\n",
    "            study_var = df['embeddings'].iloc[i]\n",
    "            df_codebook[\"distance\"] = df_codebook.embeddings.apply(lambda x: calculate_cosine_similarity(study_var, x))\n",
    "            df_codebook = df_codebook.sort_values(\"distance\")\n",
    "            recomendations.append(list(df_codebook.Name))\n",
    "            distances.append(list(df_codebook.distance))\n",
    "            #recomendations.append(list(df_codebook.nsmallest(3, 'distance').Name))\n",
    "            #distances.append(list(df_codebook.nsmallest(3, 'distance').distance))\n",
    "            urls.append(list(df_codebook.nsmallest(3, 'distance')['Ontology Code']))                                           \n",
    "    \n",
    "        #Reformat urls to match NCIT.owl\n",
    "        url_reformatted = []\n",
    "        for url in urls:\n",
    "            url_reformatted.append(['_'.join(y.split(':')) for y in url])\n",
    "    \n",
    "        df['codebook_recomendations'] = recomendations\n",
    "        df['codebook_distances'] = distances\n",
    "        df['codebook_urls'] = url_reformatted #to match NCIT.owl format\n",
    "        \n",
    "        # Save result to somewhere sensible:\n",
    "        df.to_csv(f'../data/{study}/metadata/variables_with_recomendations.csv')\n",
    "        \n",
    "        del df\n",
    "        del df_codebook"
   ]
  },
  {
   "cell_type": "code",
   "execution_count": null,
   "id": "f69e92e6-5f4f-4940-85c3-09c9dd6ef1b0",
   "metadata": {},
   "outputs": [],
   "source": []
  }
 ],
 "metadata": {
  "kernelspec": {
   "display_name": "Python 3 (ipykernel)",
   "language": "python",
   "name": "python3"
  },
  "language_info": {
   "codemirror_mode": {
    "name": "ipython",
    "version": 3
   },
   "file_extension": ".py",
   "mimetype": "text/x-python",
   "name": "python",
   "nbconvert_exporter": "python",
   "pygments_lexer": "ipython3",
   "version": "3.11.4"
  }
 },
 "nbformat": 4,
 "nbformat_minor": 5
}
