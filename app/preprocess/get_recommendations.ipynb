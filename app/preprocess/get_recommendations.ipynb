{
 "cells": [
  {
   "cell_type": "markdown",
   "id": "2456e6fa-696d-418f-b24e-658ee589a054",
   "metadata": {
    "tags": []
   },
   "source": [
    "# Create Ontology Recommendations"
   ]
  },
  {
   "cell_type": "markdown",
   "id": "1231e96e-224e-4eab-b91f-e7fc1354bfbe",
   "metadata": {},
   "source": [
    "This notebook does two things:\n",
    "\n",
    "- 1: fetch vector embeddings for the target variables and input dataset variables. Using the Descriptions.\n",
    "- 2: calculate the cosine similarity from each dataset variable to each target variable. This is used to order the "
   ]
  },
  {
   "cell_type": "code",
   "execution_count": 1,
   "id": "ad8b16ec-b11f-44dc-9653-601e50b59947",
   "metadata": {
    "tags": []
   },
   "outputs": [],
   "source": [
    "import pandas as pd\n",
    "import numpy as np\n",
    "import fsspec\n",
    "from pathlib import Path\n",
    "import os\n",
    "\n",
    "import openai\n",
    "from openai.embeddings_utils import get_embedding"
   ]
  },
  {
   "cell_type": "code",
   "execution_count": 20,
   "id": "129a58b0-2797-421c-981e-3278135eaff5",
   "metadata": {
    "tags": []
   },
   "outputs": [],
   "source": [
    "from scipy import spatial\n",
    "\n",
    "def calculate_cosine_similarity(embedding1, embedding2):\n",
    "    similarity = spatial.distance.cosine(eval(embedding1), eval(embedding2))\n",
    "    return similarity"
   ]
  },
  {
   "cell_type": "markdown",
   "id": "0f4e6a56-fc51-4634-b0ba-56f36b04d462",
   "metadata": {},
   "source": [
    "You will need to get an OpenAI key to use this code. "
   ]
  },
  {
   "cell_type": "code",
   "execution_count": 5,
   "id": "12dbd3f1-79be-4637-873d-8cbf14dc7cad",
   "metadata": {
    "tags": []
   },
   "outputs": [],
   "source": [
    "embedding_model = \"text-embedding-ada-002\"\n",
    "OpenAI_api_key = '####'\n",
    "OpenAI_org_name = '#####'\n",
    "openai.api_key = OpenAI_api_key"
   ]
  },
  {
   "cell_type": "code",
   "execution_count": 7,
   "id": "dded34bf-bced-43e9-9232-88ecd4164efb",
   "metadata": {
    "tags": []
   },
   "outputs": [],
   "source": [
    "pd.options.mode.chained_assignment = None  # default='warn'"
   ]
  },
  {
   "cell_type": "code",
   "execution_count": 9,
   "id": "bcfabb4c-e1d8-4ccc-bd65-ae21ff4d4fb1",
   "metadata": {
    "tags": []
   },
   "outputs": [],
   "source": [
    "fs = fsspec.filesystem(\"\")"
   ]
  },
  {
   "cell_type": "markdown",
   "id": "c42abc3a-04ae-4176-928f-8318409cd934",
   "metadata": {},
   "source": [
    "Get embeddings for target variables:"
   ]
  },
  {
   "cell_type": "code",
   "execution_count": 12,
   "id": "395f2a12-a82d-496e-9cc9-9dfc71931514",
   "metadata": {},
   "outputs": [],
   "source": [
    "if not fs.exists('output/target_variables_with_embeddings.csv'):\n",
    "    df = pd.read_csv('../input/target_variables.csv')\n",
    "    # use variable name if no description\n",
    "    name_to_embed = []\n",
    "    for i in range(len(df)):\n",
    "        if type(df.iloc[i].description) == str:\n",
    "            name_to_embed.append(df.iloc[i]['description'])\n",
    "        else:\n",
    "            name_to_embed.append(df.iloc[i]['variable_name'])\n",
    "    df['name_to_embed'] = name_to_embed\n",
    "    df[\"embeddings\"] = df['name_to_embed'].apply(lambda x: get_embedding(x, engine=embedding_model))\n",
    "    df.to_csv('output/target_variables_with_embeddings.csv', index=False)\n",
    "else:\n",
    "    pass\n",
    "    # here we could write some logic to check the descriptions in target_variables_with_descriptions is == to target_variables"
   ]
  },
  {
   "cell_type": "markdown",
   "id": "e433ac2f-cfca-4313-a673-22c741799e5f",
   "metadata": {},
   "source": [
    "get available studies:"
   ]
  },
  {
   "cell_type": "code",
   "execution_count": 14,
   "id": "7c641991-de11-45e9-8b70-0f9a2ed3b3df",
   "metadata": {
    "tags": []
   },
   "outputs": [
    {
     "data": {
      "text/plain": [
       "['Europe_CH_SIB', 'H3Africa']"
      ]
     },
     "execution_count": 14,
     "metadata": {},
     "output_type": "execute_result"
    }
   ],
   "source": [
    "avail_studies = [x for x in fs.ls('../input/') if fs.isdir(x)] # get directories\n",
    "avail_studies = [f.split('/')[-1] for f in avail_studies if f.split('/')[-1][0] != '.'] # strip path and remove hidden folders\n",
    "avail_studies"
   ]
  },
  {
   "cell_type": "markdown",
   "id": "fff1f5af-5348-49fa-affa-62fd41e78c85",
   "metadata": {},
   "source": [
    "Get embeddings for the dataset_variables"
   ]
  },
  {
   "cell_type": "code",
   "execution_count": 15,
   "id": "808d26ac-8680-4d05-9800-9511138001a1",
   "metadata": {},
   "outputs": [],
   "source": [
    "for study in avail_studies:\n",
    "    if not fs.exists(f'output/{study}_variables_with_embeddings.csv'):\n",
    "        df = pd.read_csv(f'../input/{study}/dataset_variables.csv')\n",
    "        # use variable name if no description\n",
    "        name_to_embed = []\n",
    "        for i in range(len(df)):\n",
    "            if type(df.iloc[i].description) == str:\n",
    "                name_to_embed.append(df.iloc[i]['description'])\n",
    "            else:\n",
    "                name_to_embed.append(df.iloc[i]['variable_name'])\n",
    "        df['name_to_embed'] = name_to_embed\n",
    "        df[\"embeddings\"] = df['name_to_embed'].apply(lambda x: get_embedding(x, engine=embedding_model))\n",
    "        df.to_csv(f'output/{study}_variables_with_embeddings.csv', index=False)\n",
    "    else:\n",
    "        pass\n",
    "        # here we could write some logic to check the descriptions in target_variables_with_descriptions is == to target_variables"
   ]
  },
  {
   "cell_type": "markdown",
   "id": "e89df7d5-4e03-40e7-ba4d-1ec20e83b882",
   "metadata": {},
   "source": [
    "Get cosine similarities and create recommendations:"
   ]
  },
  {
   "cell_type": "code",
   "execution_count": 21,
   "id": "6e4faf99-0146-4c15-9099-aeeb63165fe5",
   "metadata": {},
   "outputs": [],
   "source": [
    "for study in avail_studies:\n",
    "    if not fs.exists(f'output/{study}_variables_with_recommendations.csv'):\n",
    "        study_df = pd.read_csv(f'output/{study}_variables_with_embeddings.csv')\n",
    "        target_df = pd.read_csv('output/target_variables_with_embeddings.csv')\n",
    "        recommendations = []\n",
    "        distances = []\n",
    "        for i in range(len(study_df)):\n",
    "            study_var = study_df['embeddings'].iloc[i]\n",
    "            target_df[\"distance\"] = target_df.embeddings.apply(lambda x: calculate_cosine_similarity(study_var, x))\n",
    "            target_df = target_df.sort_values(\"distance\")\n",
    "            recommendations.append(list(target_df.description))\n",
    "            distances.append(list(target_df.distance))\n",
    "        study_df['target_recommendations'] = recommendations\n",
    "        study_df['target_distances'] = distances\n",
    "        study_df.to_csv(f'output/{study}_variables_with_recommendations.csv', index=False)\n",
    "    else:\n",
    "        pass\n",
    "        # here we could write some logic to check the descriptions in target_variables_with_descriptions is == to target_variables"
   ]
  }
 ],
 "metadata": {
  "kernelspec": {
   "display_name": "Python 3 (ipykernel)",
   "language": "python",
   "name": "python3"
  },
  "language_info": {
   "codemirror_mode": {
    "name": "ipython",
    "version": 3
   },
   "file_extension": ".py",
   "mimetype": "text/x-python",
   "name": "python",
   "nbconvert_exporter": "python",
   "pygments_lexer": "ipython3",
   "version": "3.11.4"
  }
 },
 "nbformat": 4,
 "nbformat_minor": 5
}
